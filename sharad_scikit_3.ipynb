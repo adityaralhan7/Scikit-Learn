{
 "cells": [
  {
   "cell_type": "code",
   "execution_count": 6,
   "id": "e3f67cd8-6458-460a-85eb-c044d39e738c",
   "metadata": {},
   "outputs": [],
   "source": [
    "import numpy as np\n",
    "import pandas as pd\n",
    "from sklearn.model_selection import train_test_split;\n",
    "from sklearn.svm import SVC;\n",
    "from sklearn.metrics import accuracy_score,classification_report;"
   ]
  },
  {
   "cell_type": "code",
   "execution_count": 7,
   "id": "2b47f33f-a644-49ff-9e5d-f569abec7daf",
   "metadata": {},
   "outputs": [],
   "source": [
    "df=pd.read_csv('telecom_churn_data.csv');"
   ]
  },
  {
   "cell_type": "code",
   "execution_count": 10,
   "id": "dfd2f4df-2df5-4007-a762-4f9d74302eaa",
   "metadata": {},
   "outputs": [],
   "source": [
    "X=df[['Age','MonthlyCharges']];"
   ]
  },
  {
   "cell_type": "code",
   "execution_count": 12,
   "id": "39caf532-9cb6-484e-aae4-d710ff5815d8",
   "metadata": {},
   "outputs": [],
   "source": [
    "Y=df['Churn'];"
   ]
  },
  {
   "cell_type": "code",
   "execution_count": 14,
   "id": "2d237cd8-428d-454f-b5d2-2bb1098cc5be",
   "metadata": {},
   "outputs": [],
   "source": [
    "X_train,X_test,Y_train,Y_test=train_test_split(X,Y,test_size=0.2,random_state=42);"
   ]
  },
  {
   "cell_type": "code",
   "execution_count": 15,
   "id": "72a9a1f1-59ad-44ac-8b33-2f66c103698e",
   "metadata": {},
   "outputs": [],
   "source": [
    "model=SVC();"
   ]
  },
  {
   "cell_type": "code",
   "execution_count": 35,
   "id": "f51448c6-d35c-4b30-94de-87cfb9ed6127",
   "metadata": {},
   "outputs": [],
   "source": [
    "from sklearn.preprocessing import StandardScaler\n",
    "\n",
    "scaler = StandardScaler()\n",
    "X_train = scaler.fit_transform(X_train)\n",
    "X_test = scaler.transform(X_test)\n"
   ]
  },
  {
   "cell_type": "code",
   "execution_count": 19,
   "id": "c2a14bc5-6e09-4d32-b11a-04a614425f73",
   "metadata": {},
   "outputs": [],
   "source": [
    "model=SVC(kernel='linear',C=1.0);"
   ]
  },
  {
   "cell_type": "code",
   "execution_count": 20,
   "id": "3a787c77-86b0-44b1-8dff-a2dcc1d5762c",
   "metadata": {},
   "outputs": [],
   "source": [
    "model.fit(X_train,Y_train);"
   ]
  },
  {
   "cell_type": "code",
   "execution_count": 22,
   "id": "1b382cdc-bf1d-49dd-bf95-004862968233",
   "metadata": {},
   "outputs": [],
   "source": [
    "prediction=model.predict(X_test);"
   ]
  },
  {
   "cell_type": "code",
   "execution_count": 23,
   "id": "c191e4f9-1ba8-4f33-8b91-cac1e4aa52ad",
   "metadata": {},
   "outputs": [],
   "source": [
    "accuracy=accuracy_score(Y_test,prediction);"
   ]
  },
  {
   "cell_type": "code",
   "execution_count": 24,
   "id": "fc7e714a-3872-4b5e-a3ee-6a236c70d58e",
   "metadata": {},
   "outputs": [
    {
     "name": "stdout",
     "output_type": "stream",
     "text": [
      "0.8\n"
     ]
    }
   ],
   "source": [
    "print(accuracy);"
   ]
  },
  {
   "cell_type": "code",
   "execution_count": 26,
   "id": "0e594227-e9e8-4c62-ab36-df3f5bdc549d",
   "metadata": {},
   "outputs": [
    {
     "name": "stdout",
     "output_type": "stream",
     "text": [
      "              precision    recall  f1-score   support\n",
      "\n",
      "           0       0.80      1.00      0.89         8\n",
      "           1       0.00      0.00      0.00         2\n",
      "\n",
      "    accuracy                           0.80        10\n",
      "   macro avg       0.40      0.50      0.44        10\n",
      "weighted avg       0.64      0.80      0.71        10\n",
      "\n"
     ]
    },
    {
     "name": "stderr",
     "output_type": "stream",
     "text": [
      "C:\\Users\\ADITYA RALHAN\\AppData\\Local\\Programs\\Python\\Python313\\Lib\\site-packages\\sklearn\\metrics\\_classification.py:1706: UndefinedMetricWarning: Precision is ill-defined and being set to 0.0 in labels with no predicted samples. Use `zero_division` parameter to control this behavior.\n",
      "  _warn_prf(average, modifier, f\"{metric.capitalize()} is\", result.shape[0])\n",
      "C:\\Users\\ADITYA RALHAN\\AppData\\Local\\Programs\\Python\\Python313\\Lib\\site-packages\\sklearn\\metrics\\_classification.py:1706: UndefinedMetricWarning: Precision is ill-defined and being set to 0.0 in labels with no predicted samples. Use `zero_division` parameter to control this behavior.\n",
      "  _warn_prf(average, modifier, f\"{metric.capitalize()} is\", result.shape[0])\n",
      "C:\\Users\\ADITYA RALHAN\\AppData\\Local\\Programs\\Python\\Python313\\Lib\\site-packages\\sklearn\\metrics\\_classification.py:1706: UndefinedMetricWarning: Precision is ill-defined and being set to 0.0 in labels with no predicted samples. Use `zero_division` parameter to control this behavior.\n",
      "  _warn_prf(average, modifier, f\"{metric.capitalize()} is\", result.shape[0])\n"
     ]
    }
   ],
   "source": [
    "report=classification_report(Y_test,prediction);\n",
    "print(report);"
   ]
  },
  {
   "cell_type": "code",
   "execution_count": 38,
   "id": "98f8f3c1-7584-44a7-9d65-e2a5dbfc9688",
   "metadata": {},
   "outputs": [
    {
     "name": "stdin",
     "output_type": "stream",
     "text": [
      "Enter your age pls 19\n",
      "Enter your monthly charges 36\n"
     ]
    },
    {
     "name": "stdout",
     "output_type": "stream",
     "text": [
      "did not churn\n"
     ]
    },
    {
     "name": "stderr",
     "output_type": "stream",
     "text": [
      "C:\\Users\\ADITYA RALHAN\\AppData\\Local\\Programs\\Python\\Python313\\Lib\\site-packages\\sklearn\\utils\\validation.py:2749: UserWarning: X does not have valid feature names, but SVC was fitted with feature names\n",
      "  warnings.warn(\n"
     ]
    }
   ],
   "source": [
    "age=int(input(\"Enter your age pls\"));\n",
    "MonthlyCharges=float(input(\"Enter your monthly charges\"));\n",
    "data=np.array([[age,MonthlyCharges]]);\n",
    "predicts=model.predict(data);\n",
    "if(predicts[0]==0):\n",
    "    print(\"did not churn\");\n",
    "else:\n",
    "    print(\"churned\");"
   ]
  },
  {
   "cell_type": "code",
   "execution_count": null,
   "id": "26844986-9e55-4c85-8d43-035b18a2fe09",
   "metadata": {},
   "outputs": [],
   "source": []
  }
 ],
 "metadata": {
  "kernelspec": {
   "display_name": "Python 3 (ipykernel)",
   "language": "python",
   "name": "python3"
  },
  "language_info": {
   "codemirror_mode": {
    "name": "ipython",
    "version": 3
   },
   "file_extension": ".py",
   "mimetype": "text/x-python",
   "name": "python",
   "nbconvert_exporter": "python",
   "pygments_lexer": "ipython3",
   "version": "3.13.2"
  }
 },
 "nbformat": 4,
 "nbformat_minor": 5
}
