{
 "cells": [
  {
   "cell_type": "code",
   "execution_count": 16,
   "id": "21e5a132-3f94-4afa-af6a-03ea750dd237",
   "metadata": {},
   "outputs": [],
   "source": [
    "import pandas as pd\n",
    "import numpy as np\n",
    "from sklearn.model_selection import train_test_split\n",
    "from sklearn.linear_model import LogisticRegression\n",
    "from sklearn.metrics import accuracy_score"
   ]
  },
  {
   "cell_type": "code",
   "execution_count": 6,
   "id": "b49deeee-d8af-4962-b409-cc41e4d6d959",
   "metadata": {},
   "outputs": [],
   "source": [
    "df=pd.read_csv('user_behavior_data.csv');"
   ]
  },
  {
   "cell_type": "code",
   "execution_count": 7,
   "id": "6534a65c-6210-43d2-96c3-90b994b1d14d",
   "metadata": {},
   "outputs": [],
   "source": [
    "X=df[['Age','TimeSpent']];"
   ]
  },
  {
   "cell_type": "code",
   "execution_count": 8,
   "id": "f48f8d72-0e9d-412c-8855-752c4cadb916",
   "metadata": {},
   "outputs": [],
   "source": [
    "Y=df[['AddedToCart']];"
   ]
  },
  {
   "cell_type": "code",
   "execution_count": 9,
   "id": "b34cc29c-2e83-4337-a2dd-0c502106e6c7",
   "metadata": {},
   "outputs": [],
   "source": [
    "X_train,X_test,Y_train,Y_test=train_test_split(X,Y,test_size=0.2,random_state=42);"
   ]
  },
  {
   "cell_type": "code",
   "execution_count": 10,
   "id": "6675c663-f91d-4079-b495-2a40ed133d01",
   "metadata": {},
   "outputs": [],
   "source": [
    "model=LogisticRegression();"
   ]
  },
  {
   "cell_type": "code",
   "execution_count": 12,
   "id": "642bd607-5875-42c4-8055-1bcee86e0e3a",
   "metadata": {},
   "outputs": [
    {
     "name": "stderr",
     "output_type": "stream",
     "text": [
      "C:\\Users\\ADITYA RALHAN\\AppData\\Local\\Programs\\Python\\Python313\\Lib\\site-packages\\sklearn\\utils\\validation.py:1406: DataConversionWarning: A column-vector y was passed when a 1d array was expected. Please change the shape of y to (n_samples, ), for example using ravel().\n",
      "  y = column_or_1d(y, warn=True)\n"
     ]
    }
   ],
   "source": [
    "model.fit(X_train,Y_train);"
   ]
  },
  {
   "cell_type": "code",
   "execution_count": 13,
   "id": "c5589d7d-e1ca-4c28-83a7-026b8f5c5d35",
   "metadata": {},
   "outputs": [],
   "source": [
    "prediction=model.predict(X_test);"
   ]
  },
  {
   "cell_type": "code",
   "execution_count": 14,
   "id": "61ef7b41-7b10-4509-b9aa-9c29af8bf5f9",
   "metadata": {},
   "outputs": [
    {
     "name": "stdout",
     "output_type": "stream",
     "text": [
      "[1 0 0 1 1 0 0 0 0 0 0 0 0 1 0 1 0 0 0 0]\n"
     ]
    }
   ],
   "source": [
    "print(prediction);"
   ]
  },
  {
   "cell_type": "code",
   "execution_count": 18,
   "id": "ee6751d1-ed96-4864-8970-c9e3acfb2ba4",
   "metadata": {},
   "outputs": [],
   "source": [
    "accuracy=accuracy_score(Y_test,prediction);"
   ]
  },
  {
   "cell_type": "code",
   "execution_count": 19,
   "id": "37af2f41-0c03-4d5d-8441-e76d63eb60bf",
   "metadata": {},
   "outputs": [
    {
     "name": "stdout",
     "output_type": "stream",
     "text": [
      "0.7\n"
     ]
    }
   ],
   "source": [
    "print(accuracy);"
   ]
  },
  {
   "cell_type": "code",
   "execution_count": 27,
   "id": "93971349-539c-401a-8cba-ef9106d569f6",
   "metadata": {},
   "outputs": [
    {
     "name": "stdin",
     "output_type": "stream",
     "text": [
      "Enter your age 32\n",
      "Enter time spent 49.11\n"
     ]
    },
    {
     "name": "stdout",
     "output_type": "stream",
     "text": [
      "Added to cart\n"
     ]
    },
    {
     "name": "stderr",
     "output_type": "stream",
     "text": [
      "C:\\Users\\ADITYA RALHAN\\AppData\\Local\\Programs\\Python\\Python313\\Lib\\site-packages\\sklearn\\utils\\validation.py:2749: UserWarning: X does not have valid feature names, but LogisticRegression was fitted with feature names\n",
      "  warnings.warn(\n"
     ]
    }
   ],
   "source": [
    "age=int(input(\"Enter your age\"));\n",
    "time=float(input(\"Enter time spent\"));\n",
    "arr=np.array([[age,time]]);\n",
    "predict=model.predict(arr);\n",
    "if(predict==0):\n",
    "    print(\"Not added to cart\");\n",
    "else:\n",
    "    print(\"Added to cart\");"
   ]
  },
  {
   "cell_type": "code",
   "execution_count": null,
   "id": "576d91ce-0e66-4079-aaf2-ee60070f5ebe",
   "metadata": {},
   "outputs": [],
   "source": []
  }
 ],
 "metadata": {
  "kernelspec": {
   "display_name": "Python 3 (ipykernel)",
   "language": "python",
   "name": "python3"
  },
  "language_info": {
   "codemirror_mode": {
    "name": "ipython",
    "version": 3
   },
   "file_extension": ".py",
   "mimetype": "text/x-python",
   "name": "python",
   "nbconvert_exporter": "python",
   "pygments_lexer": "ipython3",
   "version": "3.13.2"
  }
 },
 "nbformat": 4,
 "nbformat_minor": 5
}
