{
 "cells": [
  {
   "cell_type": "code",
   "execution_count": 5,
   "id": "812db80c-6634-49fe-820d-c2510e8fc7a2",
   "metadata": {},
   "outputs": [],
   "source": [
    "import numpy as np\n",
    "import pandas as pd\n",
    "from sklearn.model_selection import train_test_split\n",
    "from sklearn.linear_model import LinearRegression"
   ]
  },
  {
   "cell_type": "code",
   "execution_count": 6,
   "id": "477bf04d-3521-45a6-b738-9e7aa2851195",
   "metadata": {},
   "outputs": [
    {
     "data": {
      "text/plain": [
       "'problem statement:-Predicting marks of a student based on the hours he/she studied'"
      ]
     },
     "execution_count": 6,
     "metadata": {},
     "output_type": "execute_result"
    }
   ],
   "source": [
    "'''problem statement:-Predicting marks of a student based on the hours he/she studied'''"
   ]
  },
  {
   "cell_type": "code",
   "execution_count": 15,
   "id": "7e1beb12-19cb-47d4-8040-3a71109360f2",
   "metadata": {},
   "outputs": [],
   "source": [
    "data=pd.read_csv('student_marks_dataset_50.csv');"
   ]
  },
  {
   "cell_type": "code",
   "execution_count": 16,
   "id": "9b57ed7b-e0cb-43a8-9ba6-93a88a7ed1d1",
   "metadata": {},
   "outputs": [
    {
     "name": "stdout",
     "output_type": "stream",
     "text": [
      "   Student_ID  Hours_Studied  Marks_Scored\n",
      "0           1            4.4            48\n",
      "1           2            9.6            97\n",
      "2           3            7.6            75\n",
      "3           4            6.4            62\n"
     ]
    }
   ],
   "source": [
    "print(data.head(4));"
   ]
  },
  {
   "cell_type": "code",
   "execution_count": 17,
   "id": "11209a02-f757-4f31-b5c7-318fdc05e39c",
   "metadata": {},
   "outputs": [],
   "source": [
    "df=pd.DataFrame(data);"
   ]
  },
  {
   "cell_type": "code",
   "execution_count": 18,
   "id": "543eb21f-9538-4eb7-bd5e-1c39924f67c4",
   "metadata": {},
   "outputs": [
    {
     "name": "stdout",
     "output_type": "stream",
     "text": [
      "    Student_ID  Hours_Studied  Marks_Scored\n",
      "0            1            4.4            48\n",
      "1            2            9.6            97\n",
      "2            3            7.6            75\n",
      "3            4            6.4            62\n",
      "4            5            2.4            17\n",
      "5            6            2.4            20\n",
      "6            7            1.5            13\n",
      "7            8            8.8            93\n",
      "8            9            6.4            66\n",
      "9           10            7.4            65\n",
      "10          11            1.2            14\n",
      "11          12            9.7            95\n",
      "12          13            8.5            82\n",
      "13          14            2.9            32\n",
      "14          15            2.6            31\n",
      "15          16            2.7            32\n",
      "16          17            3.7            33\n",
      "17          18            5.7            55\n",
      "18          19            4.9            51\n",
      "19          20            3.6            41\n",
      "20          21            6.5            63\n",
      "21          22            2.3            22\n",
      "22          23            3.6            30\n",
      "23          24            4.3            37\n",
      "24          25            5.1            55\n",
      "25          26            8.1            88\n",
      "26          27            2.8            28\n",
      "27          28            5.6            61\n",
      "28          29            6.3            65\n",
      "29          30            1.4            11\n",
      "30          31            6.5            67\n",
      "31          32            2.5            33\n",
      "32          33            1.6            16\n",
      "33          34            9.5           100\n",
      "34          35            9.7            84\n",
      "35          36            8.3            87\n",
      "36          37            3.7            37\n",
      "37          38            1.9            18\n",
      "38          39            7.2            72\n",
      "39          40            5.0            40\n",
      "40          41            2.1            20\n",
      "41          42            5.5            57\n",
      "42          43            1.3            20\n",
      "43          44            9.2            89\n",
      "44          45            3.3            29\n",
      "45          46            7.0            67\n",
      "46          47            3.8            43\n",
      "47          48            5.7            59\n",
      "48          49            5.9            56\n",
      "49          50            2.7            30\n"
     ]
    }
   ],
   "source": [
    "print(data);"
   ]
  },
  {
   "cell_type": "code",
   "execution_count": 19,
   "id": "09596ac0-4206-446e-a211-6620b6aaea67",
   "metadata": {},
   "outputs": [],
   "source": [
    "X=df[['Hours_Studied']];\n",
    "Y=df[['Marks_Scored']];"
   ]
  },
  {
   "cell_type": "code",
   "execution_count": 20,
   "id": "b77fa26b-5386-4c0f-8d30-45bd842a5d4c",
   "metadata": {},
   "outputs": [],
   "source": [
    "X_train,X_test,Y_train,Y_test=train_test_split(X,Y,test_size=0.2,random_state=42);"
   ]
  },
  {
   "cell_type": "code",
   "execution_count": 21,
   "id": "ff2dd886-ed17-4b2f-ab6e-4624c935a953",
   "metadata": {},
   "outputs": [],
   "source": [
    "model=LinearRegression();"
   ]
  },
  {
   "cell_type": "code",
   "execution_count": 22,
   "id": "bd5f0bd0-7283-4802-926f-d251d01c0918",
   "metadata": {},
   "outputs": [],
   "source": [
    "model.fit(X_train,Y_train);"
   ]
  },
  {
   "cell_type": "code",
   "execution_count": null,
   "id": "4f521e6e-fb8a-4f21-ba7d-d69c775a9046",
   "metadata": {},
   "outputs": [],
   "source": []
  },
  {
   "cell_type": "code",
   "execution_count": 35,
   "id": "1de62b31-b5ee-4188-8fa0-76168266a9a8",
   "metadata": {},
   "outputs": [
    {
     "name": "stdin",
     "output_type": "stream",
     "text": [
      "Enter the number of hours you study:  10\n"
     ]
    },
    {
     "name": "stderr",
     "output_type": "stream",
     "text": [
      "C:\\Users\\ADITYA RALHAN\\AppData\\Local\\Programs\\Python\\Python313\\Lib\\site-packages\\sklearn\\utils\\validation.py:2749: UserWarning: X does not have valid feature names, but LinearRegression was fitted with feature names\n",
      "  warnings.warn(\n"
     ]
    }
   ],
   "source": [
    "user_input=float(input(\"Enter the number of hours you study: \"));\n",
    "if(user_input>12.0):\n",
    "    print(\"enter realistic no of hrs per day please\");\n",
    "else:\n",
    "    predicted_score=model.predict([[user_input]]);\n"
   ]
  },
  {
   "cell_type": "code",
   "execution_count": 33,
   "id": "19f613cb-156c-477c-b30f-a44c5bb21aeb",
   "metadata": {},
   "outputs": [
    {
     "name": "stderr",
     "output_type": "stream",
     "text": [
      "C:\\Users\\ADITYA RALHAN\\AppData\\Local\\Programs\\Python\\Python313\\Lib\\site-packages\\sklearn\\utils\\validation.py:2749: UserWarning: X does not have valid feature names, but LinearRegression was fitted with feature names\n",
      "  warnings.warn(\n"
     ]
    }
   ],
   "source": []
  },
  {
   "cell_type": "code",
   "execution_count": 36,
   "id": "5cbae12f-c7db-4207-8bef-21667670a260",
   "metadata": {},
   "outputs": [
    {
     "name": "stdout",
     "output_type": "stream",
     "text": [
      "[[98.85825671]]\n"
     ]
    }
   ],
   "source": [
    "print(predicted_score);"
   ]
  },
  {
   "cell_type": "code",
   "execution_count": null,
   "id": "cfa834cc-c81b-4ee9-8bcb-76bd14f7bf3a",
   "metadata": {},
   "outputs": [],
   "source": []
  }
 ],
 "metadata": {
  "kernelspec": {
   "display_name": "Python 3 (ipykernel)",
   "language": "python",
   "name": "python3"
  },
  "language_info": {
   "codemirror_mode": {
    "name": "ipython",
    "version": 3
   },
   "file_extension": ".py",
   "mimetype": "text/x-python",
   "name": "python",
   "nbconvert_exporter": "python",
   "pygments_lexer": "ipython3",
   "version": "3.13.2"
  }
 },
 "nbformat": 4,
 "nbformat_minor": 5
}
